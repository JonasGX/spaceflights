{
 "cells": [
  {
   "cell_type": "code",
   "execution_count": 9,
   "id": "d269975b-dc45-46d3-8188-7cb43acb4ba6",
   "metadata": {},
   "outputs": [
    {
     "name": "stdout",
     "output_type": "stream",
     "text": [
      "Requirement already satisfied: kedro-datasets[pandas] in j:\\udemy\\kedro\\project_space\\lib\\site-packages (6.0.0)Note: you may need to restart the kernel to use updated packages.\n",
      "\n",
      "Requirement already satisfied: lazy_loader in j:\\udemy\\kedro\\project_space\\lib\\site-packages (from kedro-datasets[pandas]) (0.4)\n",
      "Requirement already satisfied: kedro>=0.19.7 in j:\\udemy\\kedro\\project_space\\lib\\site-packages (from kedro-datasets[pandas]) (0.19.10)\n",
      "Requirement already satisfied: pluggy>=1.0 in j:\\udemy\\kedro\\project_space\\lib\\site-packages (from kedro>=0.19.7->kedro-datasets[pandas]) (1.5.0)\n",
      "Requirement already satisfied: importlib_resources<7.0,>=1.3 in j:\\udemy\\kedro\\project_space\\lib\\site-packages (from kedro>=0.19.7->kedro-datasets[pandas]) (6.4.5)\n",
      "Requirement already satisfied: rope<2.0,>=0.21 in j:\\udemy\\kedro\\project_space\\lib\\site-packages (from kedro>=0.19.7->kedro-datasets[pandas]) (1.13.0)\n",
      "Requirement already satisfied: gitpython>=3.0 in j:\\udemy\\kedro\\project_space\\lib\\site-packages (from kedro>=0.19.7->kedro-datasets[pandas]) (3.1.43)\n",
      "Requirement already satisfied: parse>=1.19.0 in j:\\udemy\\kedro\\project_space\\lib\\site-packages (from kedro>=0.19.7->kedro-datasets[pandas]) (1.20.2)\n",
      "Requirement already satisfied: rich<14.0,>=12.0 in j:\\udemy\\kedro\\project_space\\lib\\site-packages (from kedro>=0.19.7->kedro-datasets[pandas]) (13.9.4)\n",
      "Requirement already satisfied: pre-commit-hooks in j:\\udemy\\kedro\\project_space\\lib\\site-packages (from kedro>=0.19.7->kedro-datasets[pandas]) (5.0.0)\n",
      "Requirement already satisfied: cachetools>=4.1 in j:\\udemy\\kedro\\project_space\\lib\\site-packages (from kedro>=0.19.7->kedro-datasets[pandas]) (5.5.0)\n",
      "Requirement already satisfied: PyYAML<7.0,>=4.2 in j:\\udemy\\kedro\\project_space\\lib\\site-packages (from kedro>=0.19.7->kedro-datasets[pandas]) (6.0.2)\n",
      "Requirement already satisfied: attrs>=21.3 in j:\\udemy\\kedro\\project_space\\lib\\site-packages (from kedro>=0.19.7->kedro-datasets[pandas]) (24.3.0)\n",
      "Requirement already satisfied: more_itertools>=8.14.0 in j:\\udemy\\kedro\\project_space\\lib\\site-packages (from kedro>=0.19.7->kedro-datasets[pandas]) (10.5.0)\n",
      "Requirement already satisfied: typing_extensions>=4.0 in j:\\udemy\\kedro\\project_space\\lib\\site-packages (from kedro>=0.19.7->kedro-datasets[pandas]) (4.12.2)\n",
      "Requirement already satisfied: kedro-telemetry>=0.5.0 in j:\\udemy\\kedro\\project_space\\lib\\site-packages (from kedro>=0.19.7->kedro-datasets[pandas]) (0.6.2)\n",
      "Requirement already satisfied: click>=4.0 in j:\\udemy\\kedro\\project_space\\lib\\site-packages (from kedro>=0.19.7->kedro-datasets[pandas]) (8.1.8)\n",
      "Requirement already satisfied: build>=0.7.0 in j:\\udemy\\kedro\\project_space\\lib\\site-packages (from kedro>=0.19.7->kedro-datasets[pandas]) (1.2.2.post1)\n",
      "Requirement already satisfied: fsspec>=2021.4 in j:\\udemy\\kedro\\project_space\\lib\\site-packages (from kedro>=0.19.7->kedro-datasets[pandas]) (2024.12.0)\n",
      "Requirement already satisfied: importlib-metadata<9.0,>=3.6 in j:\\udemy\\kedro\\project_space\\lib\\site-packages (from kedro>=0.19.7->kedro-datasets[pandas]) (8.5.0)\n",
      "Requirement already satisfied: toml>=0.10.0 in j:\\udemy\\kedro\\project_space\\lib\\site-packages (from kedro>=0.19.7->kedro-datasets[pandas]) (0.10.2)\n",
      "Requirement already satisfied: dynaconf<4.0,>=3.1.2 in j:\\udemy\\kedro\\project_space\\lib\\site-packages (from kedro>=0.19.7->kedro-datasets[pandas]) (3.2.6)\n",
      "Requirement already satisfied: cookiecutter<3.0,>=2.1.1 in j:\\udemy\\kedro\\project_space\\lib\\site-packages (from kedro>=0.19.7->kedro-datasets[pandas]) (2.6.0)\n",
      "Requirement already satisfied: omegaconf>=2.1.1 in j:\\udemy\\kedro\\project_space\\lib\\site-packages (from kedro>=0.19.7->kedro-datasets[pandas]) (2.3.0)\n",
      "Requirement already satisfied: colorama in j:\\udemy\\kedro\\project_space\\lib\\site-packages (from build>=0.7.0->kedro>=0.19.7->kedro-datasets[pandas]) (0.4.6)\n",
      "Requirement already satisfied: tomli>=1.1.0 in j:\\udemy\\kedro\\project_space\\lib\\site-packages (from build>=0.7.0->kedro>=0.19.7->kedro-datasets[pandas]) (2.2.1)\n",
      "Requirement already satisfied: pyproject_hooks in j:\\udemy\\kedro\\project_space\\lib\\site-packages (from build>=0.7.0->kedro>=0.19.7->kedro-datasets[pandas]) (1.2.0)\n",
      "Requirement already satisfied: packaging>=19.1 in j:\\udemy\\kedro\\project_space\\lib\\site-packages (from build>=0.7.0->kedro>=0.19.7->kedro-datasets[pandas]) (24.2)\n",
      "Requirement already satisfied: requests>=2.23.0 in j:\\udemy\\kedro\\project_space\\lib\\site-packages (from cookiecutter<3.0,>=2.1.1->kedro>=0.19.7->kedro-datasets[pandas]) (2.32.3)\n",
      "Requirement already satisfied: Jinja2<4.0.0,>=2.7 in j:\\udemy\\kedro\\project_space\\lib\\site-packages (from cookiecutter<3.0,>=2.1.1->kedro>=0.19.7->kedro-datasets[pandas]) (3.1.5)\n",
      "Requirement already satisfied: arrow in j:\\udemy\\kedro\\project_space\\lib\\site-packages (from cookiecutter<3.0,>=2.1.1->kedro>=0.19.7->kedro-datasets[pandas]) (1.3.0)\n",
      "Requirement already satisfied: binaryornot>=0.4.4 in j:\\udemy\\kedro\\project_space\\lib\\site-packages (from cookiecutter<3.0,>=2.1.1->kedro>=0.19.7->kedro-datasets[pandas]) (0.4.4)\n",
      "Requirement already satisfied: python-slugify>=4.0.0 in j:\\udemy\\kedro\\project_space\\lib\\site-packages (from cookiecutter<3.0,>=2.1.1->kedro>=0.19.7->kedro-datasets[pandas]) (8.0.4)\n",
      "Requirement already satisfied: chardet>=3.0.2 in j:\\udemy\\kedro\\project_space\\lib\\site-packages (from binaryornot>=0.4.4->cookiecutter<3.0,>=2.1.1->kedro>=0.19.7->kedro-datasets[pandas]) (5.2.0)\n",
      "Requirement already satisfied: gitdb<5,>=4.0.1 in j:\\udemy\\kedro\\project_space\\lib\\site-packages (from gitpython>=3.0->kedro>=0.19.7->kedro-datasets[pandas]) (4.0.11)\n",
      "Requirement already satisfied: smmap<6,>=3.0.1 in j:\\udemy\\kedro\\project_space\\lib\\site-packages (from gitdb<5,>=4.0.1->gitpython>=3.0->kedro>=0.19.7->kedro-datasets[pandas]) (5.0.1)\n",
      "Requirement already satisfied: zipp>=3.20 in j:\\udemy\\kedro\\project_space\\lib\\site-packages (from importlib-metadata<9.0,>=3.6->kedro>=0.19.7->kedro-datasets[pandas]) (3.21.0)\n",
      "Requirement already satisfied: MarkupSafe>=2.0 in j:\\udemy\\kedro\\project_space\\lib\\site-packages (from Jinja2<4.0.0,>=2.7->cookiecutter<3.0,>=2.1.1->kedro>=0.19.7->kedro-datasets[pandas]) (3.0.2)\n",
      "Requirement already satisfied: appdirs>=1.4.4 in j:\\udemy\\kedro\\project_space\\lib\\site-packages (from kedro-telemetry>=0.5.0->kedro>=0.19.7->kedro-datasets[pandas]) (1.4.4)\n",
      "Requirement already satisfied: antlr4-python3-runtime==4.9.* in j:\\udemy\\kedro\\project_space\\lib\\site-packages (from omegaconf>=2.1.1->kedro>=0.19.7->kedro-datasets[pandas]) (4.9.3)\n",
      "Requirement already satisfied: text-unidecode>=1.3 in j:\\udemy\\kedro\\project_space\\lib\\site-packages (from python-slugify>=4.0.0->cookiecutter<3.0,>=2.1.1->kedro>=0.19.7->kedro-datasets[pandas]) (1.3)\n",
      "Requirement already satisfied: certifi>=2017.4.17 in j:\\udemy\\kedro\\project_space\\lib\\site-packages (from requests>=2.23.0->cookiecutter<3.0,>=2.1.1->kedro>=0.19.7->kedro-datasets[pandas]) (2024.12.14)\n",
      "Requirement already satisfied: urllib3<3,>=1.21.1 in j:\\udemy\\kedro\\project_space\\lib\\site-packages (from requests>=2.23.0->cookiecutter<3.0,>=2.1.1->kedro>=0.19.7->kedro-datasets[pandas]) (2.2.3)\n",
      "Requirement already satisfied: idna<4,>=2.5 in j:\\udemy\\kedro\\project_space\\lib\\site-packages (from requests>=2.23.0->cookiecutter<3.0,>=2.1.1->kedro>=0.19.7->kedro-datasets[pandas]) (3.10)\n",
      "Requirement already satisfied: charset-normalizer<4,>=2 in j:\\udemy\\kedro\\project_space\\lib\\site-packages (from requests>=2.23.0->cookiecutter<3.0,>=2.1.1->kedro>=0.19.7->kedro-datasets[pandas]) (3.4.0)\n",
      "Requirement already satisfied: pygments<3.0.0,>=2.13.0 in j:\\udemy\\kedro\\project_space\\lib\\site-packages (from rich<14.0,>=12.0->kedro>=0.19.7->kedro-datasets[pandas]) (2.18.0)\n",
      "Requirement already satisfied: markdown-it-py>=2.2.0 in j:\\udemy\\kedro\\project_space\\lib\\site-packages (from rich<14.0,>=12.0->kedro>=0.19.7->kedro-datasets[pandas]) (3.0.0)\n",
      "Requirement already satisfied: mdurl~=0.1 in j:\\udemy\\kedro\\project_space\\lib\\site-packages (from markdown-it-py>=2.2.0->rich<14.0,>=12.0->kedro>=0.19.7->kedro-datasets[pandas]) (0.1.2)\n",
      "Requirement already satisfied: pytoolconfig[global]>=1.2.2 in j:\\udemy\\kedro\\project_space\\lib\\site-packages (from rope<2.0,>=0.21->kedro>=0.19.7->kedro-datasets[pandas]) (1.3.1)\n",
      "Requirement already satisfied: platformdirs>=3.11.0 in j:\\udemy\\kedro\\project_space\\lib\\site-packages (from pytoolconfig[global]>=1.2.2->rope<2.0,>=0.21->kedro>=0.19.7->kedro-datasets[pandas]) (4.3.6)\n",
      "Requirement already satisfied: python-dateutil>=2.7.0 in j:\\udemy\\kedro\\project_space\\lib\\site-packages (from arrow->cookiecutter<3.0,>=2.1.1->kedro>=0.19.7->kedro-datasets[pandas]) (2.9.0.post0)\n",
      "Requirement already satisfied: types-python-dateutil>=2.8.10 in j:\\udemy\\kedro\\project_space\\lib\\site-packages (from arrow->cookiecutter<3.0,>=2.1.1->kedro>=0.19.7->kedro-datasets[pandas]) (2.9.0.20241206)\n",
      "Requirement already satisfied: six>=1.5 in j:\\udemy\\kedro\\project_space\\lib\\site-packages (from python-dateutil>=2.7.0->arrow->cookiecutter<3.0,>=2.1.1->kedro>=0.19.7->kedro-datasets[pandas]) (1.17.0)\n",
      "Requirement already satisfied: pyarrow>=6.0 in j:\\udemy\\kedro\\project_space\\lib\\site-packages (from kedro-datasets[pandas]) (19.0.0)\n",
      "Requirement already satisfied: deltalake>=0.10.0 in j:\\udemy\\kedro\\project_space\\lib\\site-packages (from kedro-datasets[pandas]) (0.24.0)\n",
      "Requirement already satisfied: tables>=3.6 in j:\\udemy\\kedro\\project_space\\lib\\site-packages (from kedro-datasets[pandas]) (3.10.1)\n",
      "Requirement already satisfied: pandas-gbq>=0.12.0 in j:\\udemy\\kedro\\project_space\\lib\\site-packages (from kedro-datasets[pandas]) (0.26.1)\n",
      "Requirement already satisfied: SQLAlchemy<3.0,>=1.4 in j:\\udemy\\kedro\\project_space\\lib\\site-packages (from kedro-datasets[pandas]) (2.0.36)\n",
      "Requirement already satisfied: lxml~=4.6 in j:\\udemy\\kedro\\project_space\\lib\\site-packages (from kedro-datasets[pandas]) (4.9.4)\n",
      "Requirement already satisfied: pyodbc>=4.0 in j:\\udemy\\kedro\\project_space\\lib\\site-packages (from kedro-datasets[pandas]) (5.2.0)\n",
      "Requirement already satisfied: openpyxl<4.0,>=3.0.6 in j:\\udemy\\kedro\\project_space\\lib\\site-packages (from kedro-datasets[pandas]) (3.1.5)\n",
      "Requirement already satisfied: et-xmlfile in j:\\udemy\\kedro\\project_space\\lib\\site-packages (from openpyxl<4.0,>=3.0.6->kedro-datasets[pandas]) (2.0.0)\n",
      "Requirement already satisfied: setuptools in j:\\udemy\\kedro\\project_space\\lib\\site-packages (from pandas-gbq>=0.12.0->kedro-datasets[pandas]) (58.1.0)\n",
      "Requirement already satisfied: db-dtypes<2.0.0,>=1.0.4 in j:\\udemy\\kedro\\project_space\\lib\\site-packages (from pandas-gbq>=0.12.0->kedro-datasets[pandas]) (1.3.1)\n",
      "Requirement already satisfied: pandas>=1.1.4 in j:\\udemy\\kedro\\project_space\\lib\\site-packages (from pandas-gbq>=0.12.0->kedro-datasets[pandas]) (2.2.3)\n",
      "Requirement already satisfied: google-api-core<3.0.0dev,>=2.10.2 in j:\\udemy\\kedro\\project_space\\lib\\site-packages (from pandas-gbq>=0.12.0->kedro-datasets[pandas]) (2.24.0)\n",
      "Requirement already satisfied: pydata-google-auth>=1.5.0 in j:\\udemy\\kedro\\project_space\\lib\\site-packages (from pandas-gbq>=0.12.0->kedro-datasets[pandas]) (1.9.0)\n",
      "Requirement already satisfied: numpy>=1.18.1 in j:\\udemy\\kedro\\project_space\\lib\\site-packages (from pandas-gbq>=0.12.0->kedro-datasets[pandas]) (2.2.0)\n",
      "Requirement already satisfied: google-auth-oauthlib>=0.7.0 in j:\\udemy\\kedro\\project_space\\lib\\site-packages (from pandas-gbq>=0.12.0->kedro-datasets[pandas]) (1.2.1)\n",
      "Requirement already satisfied: google-cloud-bigquery<4.0.0dev,>=3.4.2 in j:\\udemy\\kedro\\project_space\\lib\\site-packages (from pandas-gbq>=0.12.0->kedro-datasets[pandas]) (3.27.0)\n",
      "Requirement already satisfied: google-auth>=2.13.0 in j:\\udemy\\kedro\\project_space\\lib\\site-packages (from pandas-gbq>=0.12.0->kedro-datasets[pandas]) (2.37.0)\n",
      "Requirement already satisfied: googleapis-common-protos<2.0.dev0,>=1.56.2 in j:\\udemy\\kedro\\project_space\\lib\\site-packages (from google-api-core<3.0.0dev,>=2.10.2->pandas-gbq>=0.12.0->kedro-datasets[pandas]) (1.66.0)\n",
      "Requirement already satisfied: protobuf!=3.20.0,!=3.20.1,!=4.21.0,!=4.21.1,!=4.21.2,!=4.21.3,!=4.21.4,!=4.21.5,<6.0.0.dev0,>=3.19.5 in j:\\udemy\\kedro\\project_space\\lib\\site-packages (from google-api-core<3.0.0dev,>=2.10.2->pandas-gbq>=0.12.0->kedro-datasets[pandas]) (5.29.3)\n",
      "Requirement already satisfied: proto-plus<2.0.0dev,>=1.22.3 in j:\\udemy\\kedro\\project_space\\lib\\site-packages (from google-api-core<3.0.0dev,>=2.10.2->pandas-gbq>=0.12.0->kedro-datasets[pandas]) (1.25.0)\n",
      "Requirement already satisfied: rsa<5,>=3.1.4 in j:\\udemy\\kedro\\project_space\\lib\\site-packages (from google-auth>=2.13.0->pandas-gbq>=0.12.0->kedro-datasets[pandas]) (4.9)\n",
      "Requirement already satisfied: pyasn1-modules>=0.2.1 in j:\\udemy\\kedro\\project_space\\lib\\site-packages (from google-auth>=2.13.0->pandas-gbq>=0.12.0->kedro-datasets[pandas]) (0.4.1)\n",
      "Requirement already satisfied: requests-oauthlib>=0.7.0 in j:\\udemy\\kedro\\project_space\\lib\\site-packages (from google-auth-oauthlib>=0.7.0->pandas-gbq>=0.12.0->kedro-datasets[pandas]) (2.0.0)\n",
      "Requirement already satisfied: google-resumable-media<3.0dev,>=2.0.0 in j:\\udemy\\kedro\\project_space\\lib\\site-packages (from google-cloud-bigquery<4.0.0dev,>=3.4.2->pandas-gbq>=0.12.0->kedro-datasets[pandas]) (2.7.2)\n",
      "Requirement already satisfied: google-cloud-core<3.0.0dev,>=2.4.1 in j:\\udemy\\kedro\\project_space\\lib\\site-packages (from google-cloud-bigquery<4.0.0dev,>=3.4.2->pandas-gbq>=0.12.0->kedro-datasets[pandas]) (2.4.1)\n",
      "Requirement already satisfied: grpcio-status<2.0.dev0,>=1.33.2 in j:\\udemy\\kedro\\project_space\\lib\\site-packages (from google-api-core<3.0.0dev,>=2.10.2->pandas-gbq>=0.12.0->kedro-datasets[pandas]) (1.69.0)\n",
      "Requirement already satisfied: grpcio<2.0dev,>=1.33.2 in j:\\udemy\\kedro\\project_space\\lib\\site-packages (from google-api-core<3.0.0dev,>=2.10.2->pandas-gbq>=0.12.0->kedro-datasets[pandas]) (1.69.0)\n",
      "Requirement already satisfied: google-crc32c<2.0dev,>=1.0 in j:\\udemy\\kedro\\project_space\\lib\\site-packages (from google-resumable-media<3.0dev,>=2.0.0->google-cloud-bigquery<4.0.0dev,>=3.4.2->pandas-gbq>=0.12.0->kedro-datasets[pandas]) (1.6.0)\n",
      "Requirement already satisfied: pytz>=2020.1 in j:\\udemy\\kedro\\project_space\\lib\\site-packages (from pandas>=1.1.4->pandas-gbq>=0.12.0->kedro-datasets[pandas]) (2024.2)\n",
      "Requirement already satisfied: tzdata>=2022.7 in j:\\udemy\\kedro\\project_space\\lib\\site-packages (from pandas>=1.1.4->pandas-gbq>=0.12.0->kedro-datasets[pandas]) (2024.2)\n",
      "Requirement already satisfied: pyasn1<0.7.0,>=0.4.6 in j:\\udemy\\kedro\\project_space\\lib\\site-packages (from pyasn1-modules>=0.2.1->google-auth>=2.13.0->pandas-gbq>=0.12.0->kedro-datasets[pandas]) (0.6.1)\n",
      "Requirement already satisfied: oauthlib>=3.0.0 in j:\\udemy\\kedro\\project_space\\lib\\site-packages (from requests-oauthlib>=0.7.0->google-auth-oauthlib>=0.7.0->pandas-gbq>=0.12.0->kedro-datasets[pandas]) (3.2.2)\n",
      "Requirement already satisfied: greenlet!=0.4.17 in j:\\udemy\\kedro\\project_space\\lib\\site-packages (from SQLAlchemy<3.0,>=1.4->kedro-datasets[pandas]) (3.1.1)\n",
      "Requirement already satisfied: blosc2>=2.3.0 in j:\\udemy\\kedro\\project_space\\lib\\site-packages (from tables>=3.6->kedro-datasets[pandas]) (2.7.1)\n",
      "Requirement already satisfied: numexpr>=2.6.2 in j:\\udemy\\kedro\\project_space\\lib\\site-packages (from tables>=3.6->kedro-datasets[pandas]) (2.10.2)\n",
      "Requirement already satisfied: py-cpuinfo in j:\\udemy\\kedro\\project_space\\lib\\site-packages (from tables>=3.6->kedro-datasets[pandas]) (9.0.0)\n",
      "Requirement already satisfied: ndindex>=1.4 in j:\\udemy\\kedro\\project_space\\lib\\site-packages (from blosc2>=2.3.0->tables>=3.6->kedro-datasets[pandas]) (1.9.2)\n",
      "Requirement already satisfied: msgpack in j:\\udemy\\kedro\\project_space\\lib\\site-packages (from blosc2>=2.3.0->tables>=3.6->kedro-datasets[pandas]) (1.1.0)\n",
      "Requirement already satisfied: ruamel.yaml>=0.15 in j:\\udemy\\kedro\\project_space\\lib\\site-packages (from pre-commit-hooks->kedro>=0.19.7->kedro-datasets[pandas]) (0.18.6)\n",
      "Requirement already satisfied: ruamel.yaml.clib>=0.2.7 in j:\\udemy\\kedro\\project_space\\lib\\site-packages (from ruamel.yaml>=0.15->pre-commit-hooks->kedro>=0.19.7->kedro-datasets[pandas]) (0.2.12)\n"
     ]
    },
    {
     "name": "stderr",
     "output_type": "stream",
     "text": [
      "WARNING: You are using pip version 21.2.4; however, version 24.3.1 is available.\n",
      "You should consider upgrading via the 'J:\\Udemy\\Kedro\\project_space\\Scripts\\python.exe -m pip install --upgrade pip' command.\n"
     ]
    }
   ],
   "source": [
    "# Instalando as depêndencias para utilizar e processar os conjuntos de dados via Kedro\n",
    "%pip install kedro-datasets[pandas]"
   ]
  },
  {
   "cell_type": "code",
   "execution_count": 15,
   "id": "1b241279-debf-4467-bf03-b30d6ad57bd0",
   "metadata": {},
   "outputs": [
    {
     "data": {
      "text/html": [
       "<pre style=\"white-space:pre;overflow-x:auto;line-height:normal;font-family:Menlo,'DejaVu Sans Mono',consolas,'Courier New',monospace\"><span style=\"color: #7fbfbf; text-decoration-color: #7fbfbf\">[01/16/25 22:11:28] </span><span style=\"color: #000080; text-decoration-color: #000080\">INFO    </span> Registered line magic <span style=\"color: #008000; text-decoration-color: #008000\">'%reload_kedro'</span>                                   <a href=\"file://J:\\Udemy\\Kedro\\project_space\\lib\\site-packages\\kedro\\ipython\\__init__.py\" target=\"_blank\"><span style=\"color: #7f7f7f; text-decoration-color: #7f7f7f\">__init__.py</span></a><span style=\"color: #7f7f7f; text-decoration-color: #7f7f7f\">:</span><a href=\"file://J:\\Udemy\\Kedro\\project_space\\lib\\site-packages\\kedro\\ipython\\__init__.py#61\" target=\"_blank\"><span style=\"color: #7f7f7f; text-decoration-color: #7f7f7f\">61</span></a>\n",
       "</pre>\n"
      ],
      "text/plain": [
       "\u001b[2;36m[01/16/25 22:11:28]\u001b[0m\u001b[2;36m \u001b[0m\u001b[34mINFO    \u001b[0m Registered line magic \u001b[32m'%reload_kedro'\u001b[0m                                   \u001b]8;id=472597;file://J:\\Udemy\\Kedro\\project_space\\lib\\site-packages\\kedro\\ipython\\__init__.py\u001b\\\u001b[2m__init__.py\u001b[0m\u001b]8;;\u001b\\\u001b[2m:\u001b[0m\u001b]8;id=880752;file://J:\\Udemy\\Kedro\\project_space\\lib\\site-packages\\kedro\\ipython\\__init__.py#61\u001b\\\u001b[2m61\u001b[0m\u001b]8;;\u001b\\\n"
      ]
     },
     "metadata": {},
     "output_type": "display_data"
    },
    {
     "data": {
      "text/html": [
       "<pre style=\"white-space:pre;overflow-x:auto;line-height:normal;font-family:Menlo,'DejaVu Sans Mono',consolas,'Courier New',monospace\"><span style=\"color: #7fbfbf; text-decoration-color: #7fbfbf\">                    </span><span style=\"color: #000080; text-decoration-color: #000080\">INFO    </span> Registered line magic <span style=\"color: #008000; text-decoration-color: #008000\">'%load_node'</span>                                      <a href=\"file://J:\\Udemy\\Kedro\\project_space\\lib\\site-packages\\kedro\\ipython\\__init__.py\" target=\"_blank\"><span style=\"color: #7f7f7f; text-decoration-color: #7f7f7f\">__init__.py</span></a><span style=\"color: #7f7f7f; text-decoration-color: #7f7f7f\">:</span><a href=\"file://J:\\Udemy\\Kedro\\project_space\\lib\\site-packages\\kedro\\ipython\\__init__.py#63\" target=\"_blank\"><span style=\"color: #7f7f7f; text-decoration-color: #7f7f7f\">63</span></a>\n",
       "</pre>\n"
      ],
      "text/plain": [
       "\u001b[2;36m                   \u001b[0m\u001b[2;36m \u001b[0m\u001b[34mINFO    \u001b[0m Registered line magic \u001b[32m'%load_node'\u001b[0m                                      \u001b]8;id=270727;file://J:\\Udemy\\Kedro\\project_space\\lib\\site-packages\\kedro\\ipython\\__init__.py\u001b\\\u001b[2m__init__.py\u001b[0m\u001b]8;;\u001b\\\u001b[2m:\u001b[0m\u001b]8;id=166707;file://J:\\Udemy\\Kedro\\project_space\\lib\\site-packages\\kedro\\ipython\\__init__.py#63\u001b\\\u001b[2m63\u001b[0m\u001b]8;;\u001b\\\n"
      ]
     },
     "metadata": {},
     "output_type": "display_data"
    },
    {
     "data": {
      "text/html": [
       "<pre style=\"white-space:pre;overflow-x:auto;line-height:normal;font-family:Menlo,'DejaVu Sans Mono',consolas,'Courier New',monospace\"><span style=\"color: #7fbfbf; text-decoration-color: #7fbfbf\">                    </span><span style=\"color: #000080; text-decoration-color: #000080\">INFO    </span> Resolved project path as: J:\\Udemy\\Kedro\\spaceflights.                 <a href=\"file://J:\\Udemy\\Kedro\\project_space\\lib\\site-packages\\kedro\\ipython\\__init__.py\" target=\"_blank\"><span style=\"color: #7f7f7f; text-decoration-color: #7f7f7f\">__init__.py</span></a><span style=\"color: #7f7f7f; text-decoration-color: #7f7f7f\">:</span><a href=\"file://J:\\Udemy\\Kedro\\project_space\\lib\\site-packages\\kedro\\ipython\\__init__.py#178\" target=\"_blank\"><span style=\"color: #7f7f7f; text-decoration-color: #7f7f7f\">178</span></a>\n",
       "<span style=\"color: #7fbfbf; text-decoration-color: #7fbfbf\">                    </span>         To set a different path, run <span style=\"color: #008000; text-decoration-color: #008000\">'%reload_kedro &lt;project_root&gt;'</span>            <span style=\"color: #7f7f7f; text-decoration-color: #7f7f7f\">               </span>\n",
       "</pre>\n"
      ],
      "text/plain": [
       "\u001b[2;36m                   \u001b[0m\u001b[2;36m \u001b[0m\u001b[34mINFO    \u001b[0m Resolved project path as: J:\\Udemy\\Kedro\\spaceflights.                 \u001b]8;id=894403;file://J:\\Udemy\\Kedro\\project_space\\lib\\site-packages\\kedro\\ipython\\__init__.py\u001b\\\u001b[2m__init__.py\u001b[0m\u001b]8;;\u001b\\\u001b[2m:\u001b[0m\u001b]8;id=406462;file://J:\\Udemy\\Kedro\\project_space\\lib\\site-packages\\kedro\\ipython\\__init__.py#178\u001b\\\u001b[2m178\u001b[0m\u001b]8;;\u001b\\\n",
       "\u001b[2;36m                    \u001b[0m         To set a different path, run \u001b[32m'%reload_kedro \u001b[0m\u001b[32m<\u001b[0m\u001b[32mproject_root\u001b[0m\u001b[32m>\u001b[0m\u001b[32m'\u001b[0m            \u001b[2m               \u001b[0m\n"
      ]
     },
     "metadata": {},
     "output_type": "display_data"
    },
    {
     "data": {
      "text/html": [
       "<pre style=\"white-space:pre;overflow-x:auto;line-height:normal;font-family:Menlo,'DejaVu Sans Mono',consolas,'Courier New',monospace\"><span style=\"color: #7fbfbf; text-decoration-color: #7fbfbf\">[01/16/25 22:11:29] </span><span style=\"color: #000080; text-decoration-color: #000080\">INFO    </span> Kedro is sending anonymous usage data with the sole purpose of improving <a href=\"file://J:\\Udemy\\Kedro\\project_space\\lib\\site-packages\\kedro_telemetry\\plugin.py\" target=\"_blank\"><span style=\"color: #7f7f7f; text-decoration-color: #7f7f7f\">plugin.py</span></a><span style=\"color: #7f7f7f; text-decoration-color: #7f7f7f\">:</span><a href=\"file://J:\\Udemy\\Kedro\\project_space\\lib\\site-packages\\kedro_telemetry\\plugin.py#233\" target=\"_blank\"><span style=\"color: #7f7f7f; text-decoration-color: #7f7f7f\">233</span></a>\n",
       "<span style=\"color: #7fbfbf; text-decoration-color: #7fbfbf\">                    </span>         the product. No personal data or IP addresses are stored on our side. If <span style=\"color: #7f7f7f; text-decoration-color: #7f7f7f\">             </span>\n",
       "<span style=\"color: #7fbfbf; text-decoration-color: #7fbfbf\">                    </span>         you want to opt out, set the `KEDRO_DISABLE_TELEMETRY` or `DO_NOT_TRACK` <span style=\"color: #7f7f7f; text-decoration-color: #7f7f7f\">             </span>\n",
       "<span style=\"color: #7fbfbf; text-decoration-color: #7fbfbf\">                    </span>         environment variables, or create a `.telemetry` file in the current      <span style=\"color: #7f7f7f; text-decoration-color: #7f7f7f\">             </span>\n",
       "<span style=\"color: #7fbfbf; text-decoration-color: #7fbfbf\">                    </span>         working directory with the contents `consent: false`. Read more at       <span style=\"color: #7f7f7f; text-decoration-color: #7f7f7f\">             </span>\n",
       "<span style=\"color: #7fbfbf; text-decoration-color: #7fbfbf\">                    </span>         <span style=\"color: #0000ff; text-decoration-color: #0000ff; text-decoration: underline\">https://docs.kedro.org/en/stable/configuration/telemetry.html</span>            <span style=\"color: #7f7f7f; text-decoration-color: #7f7f7f\">             </span>\n",
       "</pre>\n"
      ],
      "text/plain": [
       "\u001b[2;36m[01/16/25 22:11:29]\u001b[0m\u001b[2;36m \u001b[0m\u001b[34mINFO    \u001b[0m Kedro is sending anonymous usage data with the sole purpose of improving \u001b]8;id=71901;file://J:\\Udemy\\Kedro\\project_space\\lib\\site-packages\\kedro_telemetry\\plugin.py\u001b\\\u001b[2mplugin.py\u001b[0m\u001b]8;;\u001b\\\u001b[2m:\u001b[0m\u001b]8;id=140010;file://J:\\Udemy\\Kedro\\project_space\\lib\\site-packages\\kedro_telemetry\\plugin.py#233\u001b\\\u001b[2m233\u001b[0m\u001b]8;;\u001b\\\n",
       "\u001b[2;36m                    \u001b[0m         the product. No personal data or IP addresses are stored on our side. If \u001b[2m             \u001b[0m\n",
       "\u001b[2;36m                    \u001b[0m         you want to opt out, set the `KEDRO_DISABLE_TELEMETRY` or `DO_NOT_TRACK` \u001b[2m             \u001b[0m\n",
       "\u001b[2;36m                    \u001b[0m         environment variables, or create a `.telemetry` file in the current      \u001b[2m             \u001b[0m\n",
       "\u001b[2;36m                    \u001b[0m         working directory with the contents `consent: false`. Read more at       \u001b[2m             \u001b[0m\n",
       "\u001b[2;36m                    \u001b[0m         \u001b[4;94mhttps://docs.kedro.org/en/stable/configuration/telemetry.html\u001b[0m            \u001b[2m             \u001b[0m\n"
      ]
     },
     "metadata": {},
     "output_type": "display_data"
    },
    {
     "data": {
      "text/html": [
       "<pre style=\"white-space:pre;overflow-x:auto;line-height:normal;font-family:Menlo,'DejaVu Sans Mono',consolas,'Courier New',monospace\"><span style=\"color: #7fbfbf; text-decoration-color: #7fbfbf\">[01/16/25 22:11:30] </span><span style=\"color: #000080; text-decoration-color: #000080\">INFO    </span> Kedro project spaceflights                                             <a href=\"file://J:\\Udemy\\Kedro\\project_space\\lib\\site-packages\\kedro\\ipython\\__init__.py\" target=\"_blank\"><span style=\"color: #7f7f7f; text-decoration-color: #7f7f7f\">__init__.py</span></a><span style=\"color: #7f7f7f; text-decoration-color: #7f7f7f\">:</span><a href=\"file://J:\\Udemy\\Kedro\\project_space\\lib\\site-packages\\kedro\\ipython\\__init__.py#144\" target=\"_blank\"><span style=\"color: #7f7f7f; text-decoration-color: #7f7f7f\">144</span></a>\n",
       "</pre>\n"
      ],
      "text/plain": [
       "\u001b[2;36m[01/16/25 22:11:30]\u001b[0m\u001b[2;36m \u001b[0m\u001b[34mINFO    \u001b[0m Kedro project spaceflights                                             \u001b]8;id=969080;file://J:\\Udemy\\Kedro\\project_space\\lib\\site-packages\\kedro\\ipython\\__init__.py\u001b\\\u001b[2m__init__.py\u001b[0m\u001b]8;;\u001b\\\u001b[2m:\u001b[0m\u001b]8;id=159664;file://J:\\Udemy\\Kedro\\project_space\\lib\\site-packages\\kedro\\ipython\\__init__.py#144\u001b\\\u001b[2m144\u001b[0m\u001b]8;;\u001b\\\n"
      ]
     },
     "metadata": {},
     "output_type": "display_data"
    },
    {
     "data": {
      "text/html": [
       "<pre style=\"white-space:pre;overflow-x:auto;line-height:normal;font-family:Menlo,'DejaVu Sans Mono',consolas,'Courier New',monospace\"><span style=\"color: #7fbfbf; text-decoration-color: #7fbfbf\">                    </span><span style=\"color: #000080; text-decoration-color: #000080\">INFO    </span> Defined global variable <span style=\"color: #008000; text-decoration-color: #008000\">'context'</span>, <span style=\"color: #008000; text-decoration-color: #008000\">'session'</span>, <span style=\"color: #008000; text-decoration-color: #008000\">'catalog'</span> and            <a href=\"file://J:\\Udemy\\Kedro\\project_space\\lib\\site-packages\\kedro\\ipython\\__init__.py\" target=\"_blank\"><span style=\"color: #7f7f7f; text-decoration-color: #7f7f7f\">__init__.py</span></a><span style=\"color: #7f7f7f; text-decoration-color: #7f7f7f\">:</span><a href=\"file://J:\\Udemy\\Kedro\\project_space\\lib\\site-packages\\kedro\\ipython\\__init__.py#145\" target=\"_blank\"><span style=\"color: #7f7f7f; text-decoration-color: #7f7f7f\">145</span></a>\n",
       "<span style=\"color: #7fbfbf; text-decoration-color: #7fbfbf\">                    </span>         <span style=\"color: #008000; text-decoration-color: #008000\">'pipelines'</span>                                                            <span style=\"color: #7f7f7f; text-decoration-color: #7f7f7f\">               </span>\n",
       "</pre>\n"
      ],
      "text/plain": [
       "\u001b[2;36m                   \u001b[0m\u001b[2;36m \u001b[0m\u001b[34mINFO    \u001b[0m Defined global variable \u001b[32m'context'\u001b[0m, \u001b[32m'session'\u001b[0m, \u001b[32m'catalog'\u001b[0m and            \u001b]8;id=868590;file://J:\\Udemy\\Kedro\\project_space\\lib\\site-packages\\kedro\\ipython\\__init__.py\u001b\\\u001b[2m__init__.py\u001b[0m\u001b]8;;\u001b\\\u001b[2m:\u001b[0m\u001b]8;id=515604;file://J:\\Udemy\\Kedro\\project_space\\lib\\site-packages\\kedro\\ipython\\__init__.py#145\u001b\\\u001b[2m145\u001b[0m\u001b]8;;\u001b\\\n",
       "\u001b[2;36m                    \u001b[0m         \u001b[32m'pipelines'\u001b[0m                                                            \u001b[2m               \u001b[0m\n"
      ]
     },
     "metadata": {},
     "output_type": "display_data"
    },
    {
     "data": {
      "text/html": [
       "<pre style=\"white-space:pre;overflow-x:auto;line-height:normal;font-family:Menlo,'DejaVu Sans Mono',consolas,'Courier New',monospace\"><span style=\"color: #7fbfbf; text-decoration-color: #7fbfbf\">[01/16/25 22:11:33] </span><span style=\"color: #000080; text-decoration-color: #000080\">INFO    </span> Registered line magic <span style=\"color: #008000; text-decoration-color: #008000\">'run_viz'</span>                                        <a href=\"file://J:\\Udemy\\Kedro\\project_space\\lib\\site-packages\\kedro\\ipython\\__init__.py\" target=\"_blank\"><span style=\"color: #7f7f7f; text-decoration-color: #7f7f7f\">__init__.py</span></a><span style=\"color: #7f7f7f; text-decoration-color: #7f7f7f\">:</span><a href=\"file://J:\\Udemy\\Kedro\\project_space\\lib\\site-packages\\kedro\\ipython\\__init__.py#151\" target=\"_blank\"><span style=\"color: #7f7f7f; text-decoration-color: #7f7f7f\">151</span></a>\n",
       "</pre>\n"
      ],
      "text/plain": [
       "\u001b[2;36m[01/16/25 22:11:33]\u001b[0m\u001b[2;36m \u001b[0m\u001b[34mINFO    \u001b[0m Registered line magic \u001b[32m'run_viz'\u001b[0m                                        \u001b]8;id=41850;file://J:\\Udemy\\Kedro\\project_space\\lib\\site-packages\\kedro\\ipython\\__init__.py\u001b\\\u001b[2m__init__.py\u001b[0m\u001b]8;;\u001b\\\u001b[2m:\u001b[0m\u001b]8;id=524195;file://J:\\Udemy\\Kedro\\project_space\\lib\\site-packages\\kedro\\ipython\\__init__.py#151\u001b\\\u001b[2m151\u001b[0m\u001b]8;;\u001b\\\n"
      ]
     },
     "metadata": {},
     "output_type": "display_data"
    }
   ],
   "source": [
    "%load_ext kedro.ipython"
   ]
  },
  {
   "cell_type": "code",
   "execution_count": 23,
   "id": "a318c8b6-2a8b-44d2-9074-e55d645f053f",
   "metadata": {},
   "outputs": [
    {
     "data": {
      "text/html": [
       "<pre style=\"white-space:pre;overflow-x:auto;line-height:normal;font-family:Menlo,'DejaVu Sans Mono',consolas,'Courier New',monospace\"><span style=\"color: #7fbfbf; text-decoration-color: #7fbfbf\">[01/16/25 22:14:14] </span><span style=\"color: #000080; text-decoration-color: #000080\">INFO    </span> Loading data from <span style=\"color: #ff8700; text-decoration-color: #ff8700\">companies</span> <span style=\"font-weight: bold\">(</span>CSVDataset<span style=\"font-weight: bold\">)</span><span style=\"color: #808000; text-decoration-color: #808000\">...</span>                        <a href=\"file://J:\\Udemy\\Kedro\\project_space\\lib\\site-packages\\kedro\\io\\data_catalog.py\" target=\"_blank\"><span style=\"color: #7f7f7f; text-decoration-color: #7f7f7f\">data_catalog.py</span></a><span style=\"color: #7f7f7f; text-decoration-color: #7f7f7f\">:</span><a href=\"file://J:\\Udemy\\Kedro\\project_space\\lib\\site-packages\\kedro\\io\\data_catalog.py#389\" target=\"_blank\"><span style=\"color: #7f7f7f; text-decoration-color: #7f7f7f\">389</span></a>\n",
       "</pre>\n"
      ],
      "text/plain": [
       "\u001b[2;36m[01/16/25 22:14:14]\u001b[0m\u001b[2;36m \u001b[0m\u001b[34mINFO    \u001b[0m Loading data from \u001b[38;5;208mcompanies\u001b[0m \u001b[1m(\u001b[0mCSVDataset\u001b[1m)\u001b[0m\u001b[33m...\u001b[0m                        \u001b]8;id=663678;file://J:\\Udemy\\Kedro\\project_space\\lib\\site-packages\\kedro\\io\\data_catalog.py\u001b\\\u001b[2mdata_catalog.py\u001b[0m\u001b]8;;\u001b\\\u001b[2m:\u001b[0m\u001b]8;id=674296;file://J:\\Udemy\\Kedro\\project_space\\lib\\site-packages\\kedro\\io\\data_catalog.py#389\u001b\\\u001b[2m389\u001b[0m\u001b]8;;\u001b\\\n"
      ]
     },
     "metadata": {},
     "output_type": "display_data"
    },
    {
     "data": {
      "text/html": [
       "<pre style=\"white-space:pre;overflow-x:auto;line-height:normal;font-family:Menlo,'DejaVu Sans Mono',consolas,'Courier New',monospace\"><span style=\"color: #7fbfbf; text-decoration-color: #7fbfbf\">                    </span><span style=\"color: #000080; text-decoration-color: #000080\">INFO    </span> Loading data from <span style=\"color: #ff8700; text-decoration-color: #ff8700\">reviews</span> <span style=\"font-weight: bold\">(</span>CSVDataset<span style=\"font-weight: bold\">)</span><span style=\"color: #808000; text-decoration-color: #808000\">...</span>                          <a href=\"file://J:\\Udemy\\Kedro\\project_space\\lib\\site-packages\\kedro\\io\\data_catalog.py\" target=\"_blank\"><span style=\"color: #7f7f7f; text-decoration-color: #7f7f7f\">data_catalog.py</span></a><span style=\"color: #7f7f7f; text-decoration-color: #7f7f7f\">:</span><a href=\"file://J:\\Udemy\\Kedro\\project_space\\lib\\site-packages\\kedro\\io\\data_catalog.py#389\" target=\"_blank\"><span style=\"color: #7f7f7f; text-decoration-color: #7f7f7f\">389</span></a>\n",
       "</pre>\n"
      ],
      "text/plain": [
       "\u001b[2;36m                   \u001b[0m\u001b[2;36m \u001b[0m\u001b[34mINFO    \u001b[0m Loading data from \u001b[38;5;208mreviews\u001b[0m \u001b[1m(\u001b[0mCSVDataset\u001b[1m)\u001b[0m\u001b[33m...\u001b[0m                          \u001b]8;id=42580;file://J:\\Udemy\\Kedro\\project_space\\lib\\site-packages\\kedro\\io\\data_catalog.py\u001b\\\u001b[2mdata_catalog.py\u001b[0m\u001b]8;;\u001b\\\u001b[2m:\u001b[0m\u001b]8;id=567486;file://J:\\Udemy\\Kedro\\project_space\\lib\\site-packages\\kedro\\io\\data_catalog.py#389\u001b\\\u001b[2m389\u001b[0m\u001b]8;;\u001b\\\n"
      ]
     },
     "metadata": {},
     "output_type": "display_data"
    },
    {
     "data": {
      "text/html": [
       "<pre style=\"white-space:pre;overflow-x:auto;line-height:normal;font-family:Menlo,'DejaVu Sans Mono',consolas,'Courier New',monospace\"><span style=\"color: #7fbfbf; text-decoration-color: #7fbfbf\">                    </span><span style=\"color: #000080; text-decoration-color: #000080\">INFO    </span> Loading data from <span style=\"color: #ff8700; text-decoration-color: #ff8700\">shuttles</span> <span style=\"font-weight: bold\">(</span>ExcelDataset<span style=\"font-weight: bold\">)</span><span style=\"color: #808000; text-decoration-color: #808000\">...</span>                       <a href=\"file://J:\\Udemy\\Kedro\\project_space\\lib\\site-packages\\kedro\\io\\data_catalog.py\" target=\"_blank\"><span style=\"color: #7f7f7f; text-decoration-color: #7f7f7f\">data_catalog.py</span></a><span style=\"color: #7f7f7f; text-decoration-color: #7f7f7f\">:</span><a href=\"file://J:\\Udemy\\Kedro\\project_space\\lib\\site-packages\\kedro\\io\\data_catalog.py#389\" target=\"_blank\"><span style=\"color: #7f7f7f; text-decoration-color: #7f7f7f\">389</span></a>\n",
       "</pre>\n"
      ],
      "text/plain": [
       "\u001b[2;36m                   \u001b[0m\u001b[2;36m \u001b[0m\u001b[34mINFO    \u001b[0m Loading data from \u001b[38;5;208mshuttles\u001b[0m \u001b[1m(\u001b[0mExcelDataset\u001b[1m)\u001b[0m\u001b[33m...\u001b[0m                       \u001b]8;id=47655;file://J:\\Udemy\\Kedro\\project_space\\lib\\site-packages\\kedro\\io\\data_catalog.py\u001b\\\u001b[2mdata_catalog.py\u001b[0m\u001b]8;;\u001b\\\u001b[2m:\u001b[0m\u001b]8;id=603484;file://J:\\Udemy\\Kedro\\project_space\\lib\\site-packages\\kedro\\io\\data_catalog.py#389\u001b\\\u001b[2m389\u001b[0m\u001b]8;;\u001b\\\n"
      ]
     },
     "metadata": {},
     "output_type": "display_data"
    }
   ],
   "source": [
    "companies = catalog.load(\"companies\")\n",
    "reviews = catalog.load(\"reviews\")\n",
    "shuttles = catalog.load(\"shuttles\")"
   ]
  },
  {
   "cell_type": "code",
   "execution_count": 24,
   "id": "825ffaab-d0e6-46ab-9a59-1ee8f78c67c0",
   "metadata": {},
   "outputs": [
    {
     "data": {
      "text/html": [
       "<pre style=\"white-space:pre;overflow-x:auto;line-height:normal;font-family:Menlo,'DejaVu Sans Mono',consolas,'Courier New',monospace\"></pre>\n"
      ],
      "text/plain": []
     },
     "metadata": {},
     "output_type": "display_data"
    },
    {
     "data": {
      "text/html": [
       "<div>\n",
       "<style scoped>\n",
       "    .dataframe tbody tr th:only-of-type {\n",
       "        vertical-align: middle;\n",
       "    }\n",
       "\n",
       "    .dataframe tbody tr th {\n",
       "        vertical-align: top;\n",
       "    }\n",
       "\n",
       "    .dataframe thead th {\n",
       "        text-align: right;\n",
       "    }\n",
       "</style>\n",
       "<table border=\"1\" class=\"dataframe\">\n",
       "  <thead>\n",
       "    <tr style=\"text-align: right;\">\n",
       "      <th></th>\n",
       "      <th>id</th>\n",
       "      <th>company_rating</th>\n",
       "      <th>company_location</th>\n",
       "      <th>total_fleet_count</th>\n",
       "      <th>iata_approved</th>\n",
       "    </tr>\n",
       "  </thead>\n",
       "  <tbody>\n",
       "    <tr>\n",
       "      <th>0</th>\n",
       "      <td>3888</td>\n",
       "      <td>100%</td>\n",
       "      <td>Isle of Man</td>\n",
       "      <td>1.0</td>\n",
       "      <td>f</td>\n",
       "    </tr>\n",
       "    <tr>\n",
       "      <th>1</th>\n",
       "      <td>46728</td>\n",
       "      <td>100%</td>\n",
       "      <td>NaN</td>\n",
       "      <td>1.0</td>\n",
       "      <td>f</td>\n",
       "    </tr>\n",
       "    <tr>\n",
       "      <th>2</th>\n",
       "      <td>34618</td>\n",
       "      <td>38%</td>\n",
       "      <td>Isle of Man</td>\n",
       "      <td>1.0</td>\n",
       "      <td>f</td>\n",
       "    </tr>\n",
       "    <tr>\n",
       "      <th>3</th>\n",
       "      <td>28619</td>\n",
       "      <td>100%</td>\n",
       "      <td>Bosnia and Herzegovina</td>\n",
       "      <td>1.0</td>\n",
       "      <td>f</td>\n",
       "    </tr>\n",
       "    <tr>\n",
       "      <th>4</th>\n",
       "      <td>8240</td>\n",
       "      <td>NaN</td>\n",
       "      <td>Chile</td>\n",
       "      <td>1.0</td>\n",
       "      <td>t</td>\n",
       "    </tr>\n",
       "  </tbody>\n",
       "</table>\n",
       "</div>"
      ],
      "text/plain": [
       "\n",
       "      id company_rating        company_location  total_fleet_count  \\\n",
       "\u001b[1;36m0\u001b[0m   \u001b[1;36m3888\u001b[0m           \u001b[1;36m100\u001b[0m%             Isle of Man                \u001b[1;36m1.0\u001b[0m   \n",
       "\u001b[1;36m1\u001b[0m  \u001b[1;36m46728\u001b[0m           \u001b[1;36m100\u001b[0m%                     NaN                \u001b[1;36m1.0\u001b[0m   \n",
       "\u001b[1;36m2\u001b[0m  \u001b[1;36m34618\u001b[0m            \u001b[1;36m38\u001b[0m%             Isle of Man                \u001b[1;36m1.0\u001b[0m   \n",
       "\u001b[1;36m3\u001b[0m  \u001b[1;36m28619\u001b[0m           \u001b[1;36m100\u001b[0m%  Bosnia and Herzegovina                \u001b[1;36m1.0\u001b[0m   \n",
       "\u001b[1;36m4\u001b[0m   \u001b[1;36m8240\u001b[0m            NaN                   Chile                \u001b[1;36m1.0\u001b[0m   \n",
       "\n",
       "  iata_approved  \n",
       "\u001b[1;36m0\u001b[0m             f  \n",
       "\u001b[1;36m1\u001b[0m             f  \n",
       "\u001b[1;36m2\u001b[0m             f  \n",
       "\u001b[1;36m3\u001b[0m             f  \n",
       "\u001b[1;36m4\u001b[0m             t  "
      ]
     },
     "execution_count": 24,
     "metadata": {},
     "output_type": "execute_result"
    }
   ],
   "source": [
    "companies.head()"
   ]
  },
  {
   "cell_type": "code",
   "execution_count": 25,
   "id": "b84a4a29-b8c2-4519-bda2-fb4d84550b7a",
   "metadata": {},
   "outputs": [
    {
     "data": {
      "text/html": [
       "<pre style=\"white-space:pre;overflow-x:auto;line-height:normal;font-family:Menlo,'DejaVu Sans Mono',consolas,'Courier New',monospace\"></pre>\n"
      ],
      "text/plain": []
     },
     "metadata": {},
     "output_type": "display_data"
    },
    {
     "data": {
      "text/html": [
       "<div>\n",
       "<style scoped>\n",
       "    .dataframe tbody tr th:only-of-type {\n",
       "        vertical-align: middle;\n",
       "    }\n",
       "\n",
       "    .dataframe tbody tr th {\n",
       "        vertical-align: top;\n",
       "    }\n",
       "\n",
       "    .dataframe thead th {\n",
       "        text-align: right;\n",
       "    }\n",
       "</style>\n",
       "<table border=\"1\" class=\"dataframe\">\n",
       "  <thead>\n",
       "    <tr style=\"text-align: right;\">\n",
       "      <th></th>\n",
       "      <th>shuttle_id</th>\n",
       "      <th>review_scores_rating</th>\n",
       "      <th>review_scores_comfort</th>\n",
       "      <th>review_scores_amenities</th>\n",
       "      <th>review_scores_trip</th>\n",
       "      <th>review_scores_crew</th>\n",
       "      <th>review_scores_location</th>\n",
       "      <th>review_scores_price</th>\n",
       "      <th>number_of_reviews</th>\n",
       "      <th>reviews_per_month</th>\n",
       "    </tr>\n",
       "  </thead>\n",
       "  <tbody>\n",
       "    <tr>\n",
       "      <th>0</th>\n",
       "      <td>45163</td>\n",
       "      <td>91.0</td>\n",
       "      <td>10.0</td>\n",
       "      <td>9.0</td>\n",
       "      <td>9.0</td>\n",
       "      <td>9.0</td>\n",
       "      <td>9.0</td>\n",
       "      <td>9.0</td>\n",
       "      <td>26</td>\n",
       "      <td>0.77</td>\n",
       "    </tr>\n",
       "    <tr>\n",
       "      <th>1</th>\n",
       "      <td>49438</td>\n",
       "      <td>96.0</td>\n",
       "      <td>10.0</td>\n",
       "      <td>10.0</td>\n",
       "      <td>10.0</td>\n",
       "      <td>10.0</td>\n",
       "      <td>10.0</td>\n",
       "      <td>9.0</td>\n",
       "      <td>61</td>\n",
       "      <td>0.62</td>\n",
       "    </tr>\n",
       "    <tr>\n",
       "      <th>2</th>\n",
       "      <td>10750</td>\n",
       "      <td>97.0</td>\n",
       "      <td>10.0</td>\n",
       "      <td>10.0</td>\n",
       "      <td>10.0</td>\n",
       "      <td>10.0</td>\n",
       "      <td>10.0</td>\n",
       "      <td>10.0</td>\n",
       "      <td>467</td>\n",
       "      <td>4.66</td>\n",
       "    </tr>\n",
       "    <tr>\n",
       "      <th>3</th>\n",
       "      <td>4146</td>\n",
       "      <td>95.0</td>\n",
       "      <td>10.0</td>\n",
       "      <td>10.0</td>\n",
       "      <td>10.0</td>\n",
       "      <td>10.0</td>\n",
       "      <td>9.0</td>\n",
       "      <td>9.0</td>\n",
       "      <td>318</td>\n",
       "      <td>3.22</td>\n",
       "    </tr>\n",
       "    <tr>\n",
       "      <th>4</th>\n",
       "      <td>5067</td>\n",
       "      <td>97.0</td>\n",
       "      <td>10.0</td>\n",
       "      <td>9.0</td>\n",
       "      <td>10.0</td>\n",
       "      <td>10.0</td>\n",
       "      <td>9.0</td>\n",
       "      <td>10.0</td>\n",
       "      <td>22</td>\n",
       "      <td>0.29</td>\n",
       "    </tr>\n",
       "  </tbody>\n",
       "</table>\n",
       "</div>"
      ],
      "text/plain": [
       "\n",
       "   shuttle_id  review_scores_rating  review_scores_comfort  \\\n",
       "\u001b[1;36m0\u001b[0m       \u001b[1;36m45163\u001b[0m                  \u001b[1;36m91.0\u001b[0m                   \u001b[1;36m10.0\u001b[0m   \n",
       "\u001b[1;36m1\u001b[0m       \u001b[1;36m49438\u001b[0m                  \u001b[1;36m96.0\u001b[0m                   \u001b[1;36m10.0\u001b[0m   \n",
       "\u001b[1;36m2\u001b[0m       \u001b[1;36m10750\u001b[0m                  \u001b[1;36m97.0\u001b[0m                   \u001b[1;36m10.0\u001b[0m   \n",
       "\u001b[1;36m3\u001b[0m        \u001b[1;36m4146\u001b[0m                  \u001b[1;36m95.0\u001b[0m                   \u001b[1;36m10.0\u001b[0m   \n",
       "\u001b[1;36m4\u001b[0m        \u001b[1;36m5067\u001b[0m                  \u001b[1;36m97.0\u001b[0m                   \u001b[1;36m10.0\u001b[0m   \n",
       "\n",
       "   review_scores_amenities  review_scores_trip  review_scores_crew  \\\n",
       "\u001b[1;36m0\u001b[0m                      \u001b[1;36m9.0\u001b[0m                 \u001b[1;36m9.0\u001b[0m                 \u001b[1;36m9.0\u001b[0m   \n",
       "\u001b[1;36m1\u001b[0m                     \u001b[1;36m10.0\u001b[0m                \u001b[1;36m10.0\u001b[0m                \u001b[1;36m10.0\u001b[0m   \n",
       "\u001b[1;36m2\u001b[0m                     \u001b[1;36m10.0\u001b[0m                \u001b[1;36m10.0\u001b[0m                \u001b[1;36m10.0\u001b[0m   \n",
       "\u001b[1;36m3\u001b[0m                     \u001b[1;36m10.0\u001b[0m                \u001b[1;36m10.0\u001b[0m                \u001b[1;36m10.0\u001b[0m   \n",
       "\u001b[1;36m4\u001b[0m                      \u001b[1;36m9.0\u001b[0m                \u001b[1;36m10.0\u001b[0m                \u001b[1;36m10.0\u001b[0m   \n",
       "\n",
       "   review_scores_location  review_scores_price  number_of_reviews  \\\n",
       "\u001b[1;36m0\u001b[0m                     \u001b[1;36m9.0\u001b[0m                  \u001b[1;36m9.0\u001b[0m                 \u001b[1;36m26\u001b[0m   \n",
       "\u001b[1;36m1\u001b[0m                    \u001b[1;36m10.0\u001b[0m                  \u001b[1;36m9.0\u001b[0m                 \u001b[1;36m61\u001b[0m   \n",
       "\u001b[1;36m2\u001b[0m                    \u001b[1;36m10.0\u001b[0m                 \u001b[1;36m10.0\u001b[0m                \u001b[1;36m467\u001b[0m   \n",
       "\u001b[1;36m3\u001b[0m                     \u001b[1;36m9.0\u001b[0m                  \u001b[1;36m9.0\u001b[0m                \u001b[1;36m318\u001b[0m   \n",
       "\u001b[1;36m4\u001b[0m                     \u001b[1;36m9.0\u001b[0m                 \u001b[1;36m10.0\u001b[0m                 \u001b[1;36m22\u001b[0m   \n",
       "\n",
       "   reviews_per_month  \n",
       "\u001b[1;36m0\u001b[0m               \u001b[1;36m0.77\u001b[0m  \n",
       "\u001b[1;36m1\u001b[0m               \u001b[1;36m0.62\u001b[0m  \n",
       "\u001b[1;36m2\u001b[0m               \u001b[1;36m4.66\u001b[0m  \n",
       "\u001b[1;36m3\u001b[0m               \u001b[1;36m3.22\u001b[0m  \n",
       "\u001b[1;36m4\u001b[0m               \u001b[1;36m0.29\u001b[0m  "
      ]
     },
     "execution_count": 25,
     "metadata": {},
     "output_type": "execute_result"
    }
   ],
   "source": [
    "reviews.head()"
   ]
  },
  {
   "cell_type": "code",
   "execution_count": 26,
   "id": "3b4a9a0a-97ee-4166-a59a-9f26fddae2e1",
   "metadata": {},
   "outputs": [
    {
     "data": {
      "text/html": [
       "<pre style=\"white-space:pre;overflow-x:auto;line-height:normal;font-family:Menlo,'DejaVu Sans Mono',consolas,'Courier New',monospace\"></pre>\n"
      ],
      "text/plain": []
     },
     "metadata": {},
     "output_type": "display_data"
    },
    {
     "data": {
      "text/html": [
       "<div>\n",
       "<style scoped>\n",
       "    .dataframe tbody tr th:only-of-type {\n",
       "        vertical-align: middle;\n",
       "    }\n",
       "\n",
       "    .dataframe tbody tr th {\n",
       "        vertical-align: top;\n",
       "    }\n",
       "\n",
       "    .dataframe thead th {\n",
       "        text-align: right;\n",
       "    }\n",
       "</style>\n",
       "<table border=\"1\" class=\"dataframe\">\n",
       "  <thead>\n",
       "    <tr style=\"text-align: right;\">\n",
       "      <th></th>\n",
       "      <th>id</th>\n",
       "      <th>shuttle_location</th>\n",
       "      <th>shuttle_type</th>\n",
       "      <th>engine_type</th>\n",
       "      <th>engine_vendor</th>\n",
       "      <th>engines</th>\n",
       "      <th>passenger_capacity</th>\n",
       "      <th>cancellation_policy</th>\n",
       "      <th>crew</th>\n",
       "      <th>d_check_complete</th>\n",
       "      <th>moon_clearance_complete</th>\n",
       "      <th>price</th>\n",
       "      <th>company_id</th>\n",
       "    </tr>\n",
       "  </thead>\n",
       "  <tbody>\n",
       "    <tr>\n",
       "      <th>0</th>\n",
       "      <td>45163</td>\n",
       "      <td>Sao Tome and Principe</td>\n",
       "      <td>Type V5</td>\n",
       "      <td>Plasma</td>\n",
       "      <td>ThetaBase Services</td>\n",
       "      <td>2.0</td>\n",
       "      <td>4</td>\n",
       "      <td>moderate</td>\n",
       "      <td>2.0</td>\n",
       "      <td>f</td>\n",
       "      <td>f</td>\n",
       "      <td>$1,715.0</td>\n",
       "      <td>32413</td>\n",
       "    </tr>\n",
       "    <tr>\n",
       "      <th>1</th>\n",
       "      <td>49438</td>\n",
       "      <td>Wallis and Futuna</td>\n",
       "      <td>Type V2</td>\n",
       "      <td>Plasma</td>\n",
       "      <td>ThetaBase Services</td>\n",
       "      <td>3.0</td>\n",
       "      <td>5</td>\n",
       "      <td>moderate</td>\n",
       "      <td>3.0</td>\n",
       "      <td>f</td>\n",
       "      <td>f</td>\n",
       "      <td>$3,405.0</td>\n",
       "      <td>14122</td>\n",
       "    </tr>\n",
       "    <tr>\n",
       "      <th>2</th>\n",
       "      <td>10750</td>\n",
       "      <td>Niue</td>\n",
       "      <td>Type F5</td>\n",
       "      <td>Quantum</td>\n",
       "      <td>ThetaBase Services</td>\n",
       "      <td>1.0</td>\n",
       "      <td>2</td>\n",
       "      <td>strict</td>\n",
       "      <td>1.0</td>\n",
       "      <td>t</td>\n",
       "      <td>f</td>\n",
       "      <td>$1,806.0</td>\n",
       "      <td>47761</td>\n",
       "    </tr>\n",
       "    <tr>\n",
       "      <th>3</th>\n",
       "      <td>4146</td>\n",
       "      <td>Malta</td>\n",
       "      <td>Type V2</td>\n",
       "      <td>Quantum</td>\n",
       "      <td>ThetaBase Services</td>\n",
       "      <td>1.0</td>\n",
       "      <td>2</td>\n",
       "      <td>moderate</td>\n",
       "      <td>1.0</td>\n",
       "      <td>f</td>\n",
       "      <td>f</td>\n",
       "      <td>$1,676.0</td>\n",
       "      <td>26648</td>\n",
       "    </tr>\n",
       "    <tr>\n",
       "      <th>4</th>\n",
       "      <td>5067</td>\n",
       "      <td>Malta</td>\n",
       "      <td>Type V2</td>\n",
       "      <td>Plasma</td>\n",
       "      <td>ThetaBase Services</td>\n",
       "      <td>5.0</td>\n",
       "      <td>10</td>\n",
       "      <td>strict</td>\n",
       "      <td>5.0</td>\n",
       "      <td>f</td>\n",
       "      <td>f</td>\n",
       "      <td>$4,718.0</td>\n",
       "      <td>26648</td>\n",
       "    </tr>\n",
       "  </tbody>\n",
       "</table>\n",
       "</div>"
      ],
      "text/plain": [
       "\n",
       "      id       shuttle_location shuttle_type engine_type       engine_vendor  \\\n",
       "\u001b[1;36m0\u001b[0m  \u001b[1;36m45163\u001b[0m  Sao Tome and Principe      Type V5      Plasma  ThetaBase Services   \n",
       "\u001b[1;36m1\u001b[0m  \u001b[1;36m49438\u001b[0m      Wallis and Futuna      Type V2      Plasma  ThetaBase Services   \n",
       "\u001b[1;36m2\u001b[0m  \u001b[1;36m10750\u001b[0m                   Niue      Type F5     Quantum  ThetaBase Services   \n",
       "\u001b[1;36m3\u001b[0m   \u001b[1;36m4146\u001b[0m                  Malta      Type V2     Quantum  ThetaBase Services   \n",
       "\u001b[1;36m4\u001b[0m   \u001b[1;36m5067\u001b[0m                  Malta      Type V2      Plasma  ThetaBase Services   \n",
       "\n",
       "   engines  passenger_capacity cancellation_policy  crew d_check_complete  \\\n",
       "\u001b[1;36m0\u001b[0m      \u001b[1;36m2.0\u001b[0m                   \u001b[1;36m4\u001b[0m            moderate   \u001b[1;36m2.0\u001b[0m                f   \n",
       "\u001b[1;36m1\u001b[0m      \u001b[1;36m3.0\u001b[0m                   \u001b[1;36m5\u001b[0m            moderate   \u001b[1;36m3.0\u001b[0m                f   \n",
       "\u001b[1;36m2\u001b[0m      \u001b[1;36m1.0\u001b[0m                   \u001b[1;36m2\u001b[0m              strict   \u001b[1;36m1.0\u001b[0m                t   \n",
       "\u001b[1;36m3\u001b[0m      \u001b[1;36m1.0\u001b[0m                   \u001b[1;36m2\u001b[0m            moderate   \u001b[1;36m1.0\u001b[0m                f   \n",
       "\u001b[1;36m4\u001b[0m      \u001b[1;36m5.0\u001b[0m                  \u001b[1;36m10\u001b[0m              strict   \u001b[1;36m5.0\u001b[0m                f   \n",
       "\n",
       "  moon_clearance_complete     price  company_id  \n",
       "\u001b[1;36m0\u001b[0m                       f  $\u001b[1;36m1\u001b[0m,\u001b[1;36m715.0\u001b[0m       \u001b[1;36m32413\u001b[0m  \n",
       "\u001b[1;36m1\u001b[0m                       f  $\u001b[1;36m3\u001b[0m,\u001b[1;36m405.0\u001b[0m       \u001b[1;36m14122\u001b[0m  \n",
       "\u001b[1;36m2\u001b[0m                       f  $\u001b[1;36m1\u001b[0m,\u001b[1;36m806.0\u001b[0m       \u001b[1;36m47761\u001b[0m  \n",
       "\u001b[1;36m3\u001b[0m                       f  $\u001b[1;36m1\u001b[0m,\u001b[1;36m676.0\u001b[0m       \u001b[1;36m26648\u001b[0m  \n",
       "\u001b[1;36m4\u001b[0m                       f  $\u001b[1;36m4\u001b[0m,\u001b[1;36m718.0\u001b[0m       \u001b[1;36m26648\u001b[0m  "
      ]
     },
     "execution_count": 26,
     "metadata": {},
     "output_type": "execute_result"
    }
   ],
   "source": [
    "shuttles.head()"
   ]
  },
  {
   "cell_type": "code",
   "execution_count": null,
   "id": "9a55940c-3a40-40c2-895c-83cd565eaa88",
   "metadata": {},
   "outputs": [],
   "source": []
  }
 ],
 "metadata": {
  "kernelspec": {
   "display_name": "Python 3 (ipykernel)",
   "language": "python",
   "name": "python3"
  },
  "language_info": {
   "codemirror_mode": {
    "name": "ipython",
    "version": 3
   },
   "file_extension": ".py",
   "mimetype": "text/x-python",
   "name": "python",
   "nbconvert_exporter": "python",
   "pygments_lexer": "ipython3",
   "version": "3.10.1"
  }
 },
 "nbformat": 4,
 "nbformat_minor": 5
}
